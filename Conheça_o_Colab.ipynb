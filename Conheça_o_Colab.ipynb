{
  "cells": [
    {
      "cell_type": "markdown",
      "metadata": {
        "id": "view-in-github",
        "colab_type": "text"
      },
      "source": [
        "<a href=\"https://colab.research.google.com/github/Km2004-sptech/API_Web_Data_Viz/blob/main/Conhe%C3%A7a_o_Colab.ipynb\" target=\"_parent\"><img src=\"https://colab.research.google.com/assets/colab-badge.svg\" alt=\"Open In Colab\"/></a>"
      ]
    },
    {
      "cell_type": "markdown",
      "source": [
        "# Definindo um set"
      ],
      "metadata": {
        "id": "y98njQEg5gfP"
      }
    },
    {
      "cell_type": "code",
      "source": [
        "conjunto_processador = {'CPU','RAM','Disco'}\n",
        "print(conjunto_processador)\n",
        "print(type(conjunto_processador))\n",
        "\n",
        "conjunto_processador_2 = {'CPU','RAM','Overwatch2','Google'}\n",
        "conjunto_processador_3 = {'Disco','Fortnite','Campo Minado'}\n",
        "conjunto_processador_4 = {'Disco','Fortnite','Campo Minado','Google','Firefox'}\n",
        "\n"
      ],
      "metadata": {
        "id": "28Led-IL2yxZ",
        "outputId": "da7f892b-d0c9-4fd0-f6d6-d9690a3df631",
        "colab": {
          "base_uri": "https://localhost:8080/"
        }
      },
      "execution_count": 17,
      "outputs": [
        {
          "output_type": "stream",
          "name": "stdout",
          "text": [
            "{'RAM', 'Disco', 'CPU'}\n",
            "<class 'set'>\n"
          ]
        }
      ]
    },
    {
      "cell_type": "markdown",
      "source": [
        "Um conjunto (set) é uma coleção não ordenada de elementos únicos."
      ],
      "metadata": {
        "id": "PCI55v1B5pXO"
      }
    },
    {
      "cell_type": "markdown",
      "source": [
        "#União"
      ],
      "metadata": {
        "id": "R4qsZwA75QgJ"
      }
    },
    {
      "cell_type": "code",
      "source": [
        "inventario_1 = conjunto_processador | conjunto_processador_2\n",
        "print(inventario_1)\n",
        "inventario_total = conjunto_processador | conjunto_processador_2 | conjunto_processador_3\n",
        "print(inventario_total)"
      ],
      "metadata": {
        "id": "nafbFkEp5Pxk"
      },
      "execution_count": null,
      "outputs": []
    },
    {
      "cell_type": "markdown",
      "source": [
        "A união é um conjunt que um ou mais sets, removendo redundâncias de objetos duplicados."
      ],
      "metadata": {
        "id": "X0lqNID350Kr"
      }
    },
    {
      "cell_type": "markdown",
      "source": [
        "# Intersecção\n"
      ],
      "metadata": {
        "id": "XzxdGvtq6w86"
      }
    },
    {
      "cell_type": "code",
      "source": [
        "inventario_2 = conjunto_processador & conjunto_processador_2\n",
        "print(inventario_2)"
      ],
      "metadata": {
        "id": "GnLxiB0q6s6O",
        "outputId": "4c0d3d04-3414-47a9-c5e0-36fdebff342a",
        "colab": {
          "base_uri": "https://localhost:8080/"
        }
      },
      "execution_count": 9,
      "outputs": [
        {
          "output_type": "stream",
          "name": "stdout",
          "text": [
            "{'RAM', 'CPU'}\n"
          ]
        }
      ]
    },
    {
      "cell_type": "markdown",
      "source": [
        "A intersecção cria um novo conjunto com apenas os obejtos em comum dentre os conjuntos selecionados."
      ],
      "metadata": {
        "id": "dEt-rFC-7gHq"
      }
    },
    {
      "cell_type": "markdown",
      "source": [
        "# Pertinência"
      ],
      "metadata": {
        "id": "KO1Fk2I07pRp"
      }
    },
    {
      "cell_type": "code",
      "source": [
        "print('CPU' in conjunto_processador)\n",
        "print('CPU' not in conjunto_processador)"
      ],
      "metadata": {
        "id": "AyqrnLQB7xR8",
        "outputId": "0c2dd608-d9b7-4366-e9f8-9cf1db581f42",
        "colab": {
          "base_uri": "https://localhost:8080/"
        }
      },
      "execution_count": 14,
      "outputs": [
        {
          "output_type": "stream",
          "name": "stdout",
          "text": [
            "True\n",
            "False\n"
          ]
        }
      ]
    },
    {
      "cell_type": "markdown",
      "source": [
        "Esta operação exibe como resultante a booleana, verdadeira ou falsa, para elemento pertence ao\n",
        "conjunto. Podendo-se utilizar o in ou o not in."
      ],
      "metadata": {
        "id": "hXD34CId8UQJ"
      }
    },
    {
      "cell_type": "markdown",
      "source": [
        "# Pertinência com subconjuntos e superconjuntos"
      ],
      "metadata": {
        "id": "C03T0kem8yGi"
      }
    },
    {
      "cell_type": "code",
      "source": [
        "print(conjunto_processador_3 <= conjunto_processador_4)\n",
        "print(conjunto_processador_2 >= conjunto_processador_2)"
      ],
      "metadata": {
        "id": "g0_-FOvi88Dj",
        "outputId": "a51f8ace-6200-4f63-8e41-2332c905244b",
        "colab": {
          "base_uri": "https://localhost:8080/"
        }
      },
      "execution_count": 20,
      "outputs": [
        {
          "output_type": "stream",
          "name": "stdout",
          "text": [
            "True\n",
            "True\n"
          ]
        }
      ]
    },
    {
      "cell_type": "markdown",
      "source": [
        "É usado para saber se determinado conjunto contém outro conjunto com todos os seus\n",
        "elementos, neste caso temos que um subconjunto está contido em um conjunto. Utilizando o\n",
        ".issubset ou <= e .issuperset ou >="
      ],
      "metadata": {
        "id": "Re8pWgI2-AYs"
      }
    },
    {
      "cell_type": "markdown",
      "source": [
        "# Igualdade"
      ],
      "metadata": {
        "id": "ZO17OzEA-F1a"
      }
    },
    {
      "cell_type": "code",
      "source": [
        "print(conjunto_processador_2 == conjunto_processador_4)\n",
        "print(conjunto_processador_3 != conjunto_processador)"
      ],
      "metadata": {
        "id": "T-EjCeWF-JP0",
        "outputId": "238bb982-11e3-492f-ff0a-f25e8efaaf31",
        "colab": {
          "base_uri": "https://localhost:8080/"
        }
      },
      "execution_count": 19,
      "outputs": [
        {
          "output_type": "stream",
          "name": "stdout",
          "text": [
            "False\n",
            "True\n"
          ]
        }
      ]
    },
    {
      "cell_type": "markdown",
      "source": [
        "Verifica se os conjuntos são iguais '==' ou diferentes '!='"
      ],
      "metadata": {
        "id": "7fr0yfq1-VQC"
      }
    },
    {
      "cell_type": "markdown",
      "source": [
        "# Diferença simétrica"
      ],
      "metadata": {
        "id": "bMxye1-U-hQS"
      }
    },
    {
      "cell_type": "code",
      "source": [
        "conjunto_processador_2 ^ conjunto_processador_3"
      ],
      "metadata": {
        "id": "yzasckpU-oBO",
        "outputId": "70fcf414-36af-4362-926f-7875efe1e3e0",
        "colab": {
          "base_uri": "https://localhost:8080/"
        }
      },
      "execution_count": 21,
      "outputs": [
        {
          "output_type": "execute_result",
          "data": {
            "text/plain": [
              "{'CPU', 'Campo Minado', 'Disco', 'Fortnite', 'Google', 'Overwatch2', 'RAM'}"
            ]
          },
          "metadata": {},
          "execution_count": 21
        }
      ]
    },
    {
      "cell_type": "markdown",
      "source": [
        "Um novo conjunto surge, contendo todos os elementos que não são comuns aos dois conjuntos. Usando '^ ou '.symmetric_difference'"
      ],
      "metadata": {
        "id": "1hPUB0WI--hg"
      }
    },
    {
      "cell_type": "markdown",
      "source": [
        "# Adicionando ou removendo elementos\n"
      ],
      "metadata": {
        "id": "7oocMA6rDV9A"
      }
    },
    {
      "cell_type": "code",
      "source": [
        "conjunto_processador.add('Paciência')\n",
        "print(conjunto_processador)\n",
        "\n",
        "conjunto_processador_2.remove('RAM')\n",
        "print(conjunto_processador_2)\n"
      ],
      "metadata": {
        "id": "7DPDOj74Dges",
        "outputId": "f7eab978-cd00-40ae-8539-07a1d2c5335f",
        "colab": {
          "base_uri": "https://localhost:8080/"
        }
      },
      "execution_count": 25,
      "outputs": [
        {
          "output_type": "stream",
          "name": "stdout",
          "text": [
            "{'Paciência', 'RAM', 'Disco', 'CPU'}\n",
            "{'Google', 'CPU', 'Overwatch2'}\n"
          ]
        }
      ]
    },
    {
      "cell_type": "markdown",
      "source": [
        "Adiciona ou remove elementos de um conjuntos, usando '.add' ou '.remove' respectivamente"
      ],
      "metadata": {
        "id": "8XXZ8mXTD40E"
      }
    },
    {
      "cell_type": "markdown",
      "source": [
        "# Nova seção"
      ],
      "metadata": {
        "id": "sIBM_Fv3EBA7"
      }
    }
  ],
  "metadata": {
    "colab": {
      "name": "Conheça o Colab",
      "provenance": [],
      "include_colab_link": true
    },
    "kernelspec": {
      "display_name": "Python 3",
      "name": "python3"
    }
  },
  "nbformat": 4,
  "nbformat_minor": 0
}