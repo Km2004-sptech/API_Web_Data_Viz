{
  "cells": [
    {
      "cell_type": "markdown",
      "metadata": {
        "id": "view-in-github",
        "colab_type": "text"
      },
      "source": [
        "<a href=\"https://colab.research.google.com/github/Km2004-sptech/API_Web_Data_Viz/blob/main/Pr%C3%A1tica_Conjuntos.ipynb\" target=\"_parent\"><img src=\"https://colab.research.google.com/assets/colab-badge.svg\" alt=\"Open In Colab\"/></a>"
      ]
    },
    {
      "cell_type": "markdown",
      "source": [],
      "metadata": {
        "id": "JtWIXVAFy6-3"
      }
    },
    {
      "cell_type": "markdown",
      "source": [
        "# Definindo um set"
      ],
      "metadata": {
        "id": "y98njQEg5gfP"
      }
    },
    {
      "cell_type": "code",
      "source": [
        "conjunto_processador = {'CPU','RAM','Disco'}\n",
        "print(conjunto_processador)\n",
        "print(type(conjunto_processador))\n",
        "\n",
        "conjunto_processador_2 = {'CPU','RAM','Overwatch2','Google'}\n",
        "conjunto_processador_3 = {'Disco','Fortnite','Campo Minado'}\n",
        "conjunto_processador_4 = {'Disco','Fortnite','Campo Minado','Google','Firefox'}\n",
        "\n"
      ],
      "metadata": {
        "id": "28Led-IL2yxZ",
        "outputId": "6fb2aa6b-9231-4725-fb72-eae8adab33d6",
        "colab": {
          "base_uri": "https://localhost:8080/"
        }
      },
      "execution_count": 3,
      "outputs": [
        {
          "output_type": "stream",
          "name": "stdout",
          "text": [
            "{'CPU', 'Disco', 'RAM'}\n",
            "<class 'set'>\n"
          ]
        }
      ]
    },
    {
      "cell_type": "markdown",
      "source": [
        "Um conjunto (set) é uma coleção não ordenada de elementos únicos."
      ],
      "metadata": {
        "id": "PCI55v1B5pXO"
      }
    },
    {
      "cell_type": "markdown",
      "source": [
        "#União"
      ],
      "metadata": {
        "id": "R4qsZwA75QgJ"
      }
    },
    {
      "cell_type": "code",
      "source": [
        "inventario_1 = conjunto_processador | conjunto_processador_2\n",
        "print(inventario_1)\n",
        "inventario_total = conjunto_processador | conjunto_processador_2 | conjunto_processador_3\n",
        "print(inventario_total)"
      ],
      "metadata": {
        "id": "nafbFkEp5Pxk",
        "outputId": "cea58cfd-6198-4e64-cecb-8002d0a1975d",
        "colab": {
          "base_uri": "https://localhost:8080/"
        }
      },
      "execution_count": 4,
      "outputs": [
        {
          "output_type": "stream",
          "name": "stdout",
          "text": [
            "{'CPU', 'Overwatch2', 'Google', 'Disco', 'RAM'}\n",
            "{'Campo Minado', 'CPU', 'Overwatch2', 'Google', 'Fortnite', 'Disco', 'RAM'}\n"
          ]
        }
      ]
    },
    {
      "cell_type": "markdown",
      "source": [
        "A união é um conjunt que um ou mais sets, removendo redundâncias de objetos duplicados."
      ],
      "metadata": {
        "id": "X0lqNID350Kr"
      }
    },
    {
      "cell_type": "markdown",
      "source": [
        "# Intersecção\n"
      ],
      "metadata": {
        "id": "XzxdGvtq6w86"
      }
    },
    {
      "cell_type": "code",
      "source": [
        "inventario_2 = conjunto_processador & conjunto_processador_2\n",
        "print(inventario_2)"
      ],
      "metadata": {
        "id": "GnLxiB0q6s6O",
        "outputId": "be0f450a-a88a-4a81-f3d4-53140e2cd7e8",
        "colab": {
          "base_uri": "https://localhost:8080/"
        }
      },
      "execution_count": 5,
      "outputs": [
        {
          "output_type": "stream",
          "name": "stdout",
          "text": [
            "{'CPU', 'RAM'}\n"
          ]
        }
      ]
    },
    {
      "cell_type": "markdown",
      "source": [
        "A intersecção cria um novo conjunto com apenas os obejtos em comum dentre os conjuntos selecionados."
      ],
      "metadata": {
        "id": "dEt-rFC-7gHq"
      }
    },
    {
      "cell_type": "markdown",
      "source": [
        "# Pertinência"
      ],
      "metadata": {
        "id": "KO1Fk2I07pRp"
      }
    },
    {
      "cell_type": "code",
      "source": [
        "print('CPU' in conjunto_processador)\n",
        "print('CPU' not in conjunto_processador)"
      ],
      "metadata": {
        "id": "AyqrnLQB7xR8",
        "outputId": "9f00897b-81fd-47f9-dadc-9a677ed3761a",
        "colab": {
          "base_uri": "https://localhost:8080/"
        }
      },
      "execution_count": 6,
      "outputs": [
        {
          "output_type": "stream",
          "name": "stdout",
          "text": [
            "True\n",
            "False\n"
          ]
        }
      ]
    },
    {
      "cell_type": "markdown",
      "source": [
        "Esta operação exibe como resultante a booleana, verdadeira ou falsa, para elemento pertence ao\n",
        "conjunto. Podendo-se utilizar o in ou o not in."
      ],
      "metadata": {
        "id": "hXD34CId8UQJ"
      }
    },
    {
      "cell_type": "markdown",
      "source": [
        "# Pertinência com subconjuntos e superconjuntos"
      ],
      "metadata": {
        "id": "C03T0kem8yGi"
      }
    },
    {
      "cell_type": "code",
      "source": [
        "print(conjunto_processador_3 <= conjunto_processador_4)\n",
        "print(conjunto_processador_2 >= conjunto_processador_2)"
      ],
      "metadata": {
        "id": "g0_-FOvi88Dj",
        "outputId": "dafbdd2f-6771-4405-8509-a3a65b363f97",
        "colab": {
          "base_uri": "https://localhost:8080/"
        }
      },
      "execution_count": 7,
      "outputs": [
        {
          "output_type": "stream",
          "name": "stdout",
          "text": [
            "True\n",
            "True\n"
          ]
        }
      ]
    },
    {
      "cell_type": "markdown",
      "source": [
        "É usado para saber se determinado conjunto contém outro conjunto com todos os seus\n",
        "elementos, neste caso temos que um subconjunto está contido em um conjunto. Utilizando o\n",
        ".issubset ou <= e .issuperset ou >="
      ],
      "metadata": {
        "id": "Re8pWgI2-AYs"
      }
    },
    {
      "cell_type": "markdown",
      "source": [
        "# Igualdade"
      ],
      "metadata": {
        "id": "ZO17OzEA-F1a"
      }
    },
    {
      "cell_type": "code",
      "source": [
        "print(conjunto_processador_2 == conjunto_processador_4)\n",
        "print(conjunto_processador_3 != conjunto_processador)"
      ],
      "metadata": {
        "id": "T-EjCeWF-JP0",
        "outputId": "699ee20b-80f0-4a9f-926e-6ebf956f2b91",
        "colab": {
          "base_uri": "https://localhost:8080/"
        }
      },
      "execution_count": 8,
      "outputs": [
        {
          "output_type": "stream",
          "name": "stdout",
          "text": [
            "False\n",
            "True\n"
          ]
        }
      ]
    },
    {
      "cell_type": "markdown",
      "source": [
        "Verifica se os conjuntos são iguais '==' ou diferentes '!='"
      ],
      "metadata": {
        "id": "7fr0yfq1-VQC"
      }
    },
    {
      "cell_type": "markdown",
      "source": [
        "# Diferença simétrica"
      ],
      "metadata": {
        "id": "bMxye1-U-hQS"
      }
    },
    {
      "cell_type": "code",
      "source": [
        "conjunto_processador_2 ^ conjunto_processador_3"
      ],
      "metadata": {
        "id": "yzasckpU-oBO",
        "outputId": "0c5d4312-57e4-4c90-a0f1-251464ed061e",
        "colab": {
          "base_uri": "https://localhost:8080/"
        }
      },
      "execution_count": 9,
      "outputs": [
        {
          "output_type": "execute_result",
          "data": {
            "text/plain": [
              "{'CPU', 'Campo Minado', 'Disco', 'Fortnite', 'Google', 'Overwatch2', 'RAM'}"
            ]
          },
          "metadata": {},
          "execution_count": 9
        }
      ]
    },
    {
      "cell_type": "markdown",
      "source": [
        "Um novo conjunto surge, contendo todos os elementos que não são comuns aos dois conjuntos. Usando '^ ou '.symmetric_difference'"
      ],
      "metadata": {
        "id": "1hPUB0WI--hg"
      }
    },
    {
      "cell_type": "markdown",
      "source": [
        "# Adicionando ou removendo elementos\n"
      ],
      "metadata": {
        "id": "7oocMA6rDV9A"
      }
    },
    {
      "cell_type": "code",
      "source": [
        "conjunto_processador.add('Paciência')\n",
        "print(conjunto_processador)\n",
        "\n",
        "conjunto_processador_2.remove('RAM')\n",
        "print(conjunto_processador_2)\n"
      ],
      "metadata": {
        "id": "7DPDOj74Dges",
        "outputId": "de8f8de7-a15e-4d72-96b4-5b5636537345",
        "colab": {
          "base_uri": "https://localhost:8080/"
        }
      },
      "execution_count": 10,
      "outputs": [
        {
          "output_type": "stream",
          "name": "stdout",
          "text": [
            "{'Paciência', 'CPU', 'Disco', 'RAM'}\n",
            "{'Google', 'CPU', 'Overwatch2'}\n"
          ]
        }
      ]
    },
    {
      "cell_type": "markdown",
      "source": [
        "Adiciona ou remove elementos de um conjuntos, usando '.add' ou '.remove' respectivamente"
      ],
      "metadata": {
        "id": "8XXZ8mXTD40E"
      }
    },
    {
      "cell_type": "markdown",
      "source": [
        "# Compreensões de conjuntos\n"
      ],
      "metadata": {
        "id": "sIBM_Fv3EBA7"
      }
    },
    {
      "cell_type": "code",
      "source": [
        "num = {1, 2, 3, 4, 4, 5, 6, 7, 8, 8, 9, 10, 10}\n",
        "par = {item for item in num if item % 2 == 0}\n",
        "print(par)"
      ],
      "metadata": {
        "id": "rTPGJd7gyTZH",
        "outputId": "0e316689-2de0-4c70-f139-f58e2deb1996",
        "colab": {
          "base_uri": "https://localhost:8080/"
        }
      },
      "execution_count": 11,
      "outputs": [
        {
          "output_type": "stream",
          "name": "stdout",
          "text": [
            "{2, 4, 6, 8, 10}\n"
          ]
        }
      ]
    },
    {
      "cell_type": "markdown",
      "source": [
        "Você define a compreensão de conjuntos entre chaves. Criando um novo conjunto contendo\n",
        "apenas os valores pares exclusivos nos números da lista."
      ],
      "metadata": {
        "id": "4qcRgkbqypT1"
      }
    }
  ],
  "metadata": {
    "colab": {
      "name": "Conheça o Colab",
      "provenance": [],
      "toc_visible": true,
      "include_colab_link": true
    },
    "kernelspec": {
      "display_name": "Python 3",
      "name": "python3"
    }
  },
  "nbformat": 4,
  "nbformat_minor": 0
}